{
 "cells": [
  {
   "cell_type": "markdown",
   "id": "5e204c2f",
   "metadata": {},
   "source": [
    "### Libraries"
   ]
  },
  {
   "cell_type": "code",
   "execution_count": 2,
   "id": "b8def6ce",
   "metadata": {},
   "outputs": [],
   "source": [
    "import pandas as pd\n",
    "import matplotlib\n",
    "import matplotlib.pyplot as plt"
   ]
  },
  {
   "cell_type": "code",
   "execution_count": 5,
   "id": "afe6830c",
   "metadata": {},
   "outputs": [],
   "source": [
    "file = \"./NetflixOriginals.csv\"\n",
    "df = pd.read_csv(file,encoding='ISO-8859-1')"
   ]
  },
  {
   "cell_type": "markdown",
   "id": "775fa5d3",
   "metadata": {},
   "source": [
    "### 1-In which language were the long-running films created according to the dataset? Visualization."
   ]
  },
  {
   "cell_type": "code",
   "execution_count": null,
   "id": "6f328c21",
   "metadata": {},
   "outputs": [],
   "source": [
    "runtimes = df.sort_values(\"Runtime\", ascending=False)\n",
    "avg_runtime_list = runtimes.mean(numeric_only=True)\n",
    "pd.set_option('display.max_rows', runtimes.shape[0] + 1)\n",
    "pd.set_option('display.max_columns', None)\n",
    "pd.set_option('display.width', None)\n",
    "pd.set_option('display.max_colwidth', None)\n",
    "\n",
    "languages = runtimes.get(\"Language\")\n",
    "\n",
    "avg_runtime = avg_runtime_list[\"Runtime\"]\n",
    "\n",
    "# print(df.groupby(\"Language\")[\"Runtime\"].mean().head(10))\n",
    "result = df.groupby(\"Language\").mean().sort_values(\"Runtime\", ascending=False)[\n",
    "    \"Runtime\"]\n",
    "print(result)\n",
    "result.plot.barh(x=\"Language\", y=\"Runtime\", figsize=(12, 8), title=\"Top 10 movies with the highest Runtime\",\n",
    "                 legend=False)\n",
    "plt.xlabel(\"Runtime\")\n",
    "plt.ylabel(\"Language\")"
   ]
  },
  {
   "cell_type": "markdown",
   "id": "fc7943d8",
   "metadata": {},
   "source": [
    "### 2-Find and visualize the IMDB values of the movies shot in the 'Documentary' genre between January 2019 and June 2020."
   ]
  },
  {
   "cell_type": "code",
   "execution_count": null,
   "id": "2e0b9822",
   "metadata": {},
   "outputs": [],
   "source": [
    "documentary = df[df['Genre'] == \"Documentary\"]\n",
    "\n",
    "df['date'] = pd.to_datetime(documentary['Premiere'])\n",
    "\n",
    "data = df[(df['date'] >= '01/01/2019') & (df['date'] <= '30/06/2020')]\n",
    "\n",
    "result = df.groupby(\"Title\").mean().sort_values(\"IMDB Score\", ascending=False)[\n",
    "    \"IMDB Score\"].head(10)\n",
    "\n",
    "result.plot.barh(x=\"Title\", y=\"IMDB Score\", figsize=(12, 8), title=\"Top 10 movies with the highest Runtime\",\n",
    "                 legend=False)\n",
    "plt.xlabel(\"Title\")\n",
    "plt.ylabel(\"IMDB Score\")"
   ]
  },
  {
   "cell_type": "markdown",
   "id": "67f29342",
   "metadata": {},
   "source": [
    "### 3-Which genre has the highest IMDB rating among movies shot in English?"
   ]
  },
  {
   "cell_type": "code",
   "execution_count": null,
   "id": "2287d224",
   "metadata": {},
   "outputs": [],
   "source": [
    "a = df[df['Language'] == \"English\"]\n",
    "\n",
    "\n",
    "result = df.groupby(\"Genre\").mean().sort_values(\"IMDB Score\", ascending=False)[\n",
    "    \"IMDB Score\"]\n",
    "\n",
    "print(result[0:1])\n"
   ]
  },
  {
   "cell_type": "markdown",
   "id": "57a88060",
   "metadata": {},
   "source": [
    "### 4-What is the average 'runtime' of movies shot in 'Hindi'?"
   ]
  },
  {
   "cell_type": "code",
   "execution_count": null,
   "id": "0ef56df1",
   "metadata": {},
   "outputs": [],
   "source": []
  },
  {
   "cell_type": "markdown",
   "id": "33f9f0cb",
   "metadata": {},
   "source": [
    "### 5-How many categories does the 'Genre' Column have and what are those categories? Express it visually."
   ]
  },
  {
   "cell_type": "code",
   "execution_count": null,
   "id": "e59cc50e",
   "metadata": {},
   "outputs": [],
   "source": []
  },
  {
   "cell_type": "markdown",
   "metadata": {},
   "source": [
    "### 6-Find the 3 most used languages in the movies in the data set."
   ]
  },
  {
   "cell_type": "code",
   "execution_count": 28,
   "id": "a7bea396",
   "metadata": {},
   "outputs": [
    {
     "ename": "SyntaxError",
     "evalue": "invalid syntax (3978577372.py, line 1)",
     "output_type": "error",
     "traceback": [
      "\u001b[1;36m  Input \u001b[1;32mIn [28]\u001b[1;36m\u001b[0m\n\u001b[1;33m    topLang = df.\"Language\".value_counts().head(3)\u001b[0m\n\u001b[1;37m                 ^\u001b[0m\n\u001b[1;31mSyntaxError\u001b[0m\u001b[1;31m:\u001b[0m invalid syntax\n"
     ]
    }
   ],
   "source": [
    "topLang = df.Language.value_counts().head(3)\n",
    "topLang.plot.bar(figsize=(12,8),title=\"Top 3 Languages\")"
   ]
  },
  {
   "cell_type": "markdown",
   "id": "89826d29",
   "metadata": {},
   "source": [
    "### 7-What are the top 10 movies with the highest IMDB rating?"
   ]
  },
  {
   "cell_type": "code",
   "execution_count": null,
   "id": "b0a6b8b6",
   "metadata": {},
   "outputs": [],
   "source": [
    "top_10 = df.sort_values(\"IMDB Score\",ascending = False)[:10]\n",
    "top_10.plot.barh(x=\"Title\", y=\"IMDB Score\", figsize=(12,8), title = \"Top 10 movies with the highest Runtime\", legend=False);\n",
    "plt.xlabel(\"IMDB Score\");\n",
    "plt.ylabel(\"Movie Title\");"
   ]
  },
  {
   "cell_type": "markdown",
   "id": "b168aae4",
   "metadata": {},
   "source": [
    "### 8-What is the correlation between IMDB score and 'Runtime'? Examine and visualize."
   ]
  },
  {
   "cell_type": "code",
   "execution_count": null,
   "id": "eb8db70b",
   "metadata": {},
   "outputs": [],
   "source": [
    "correlation = df[[\"Runtime\",\"IMDB Score\"]].corr()\n",
    "correlation.plot.scatter(x=\"Runtime\",y=\"IMDB Score\")"
   ]
  },
  {
   "cell_type": "markdown",
   "id": "94c4ab73",
   "metadata": {},
   "source": [
    "### 9-Which are the top 10 'Genre' with the highest IMDB Score? Visualize it."
   ]
  },
  {
   "cell_type": "code",
   "execution_count": 16,
   "id": "f7394042",
   "metadata": {},
   "outputs": [
    {
     "data": {
      "text/html": [
       "<div>\n",
       "<style scoped>\n",
       "    .dataframe tbody tr th:only-of-type {\n",
       "        vertical-align: middle;\n",
       "    }\n",
       "\n",
       "    .dataframe tbody tr th {\n",
       "        vertical-align: top;\n",
       "    }\n",
       "\n",
       "    .dataframe thead th {\n",
       "        text-align: right;\n",
       "    }\n",
       "</style>\n",
       "<table border=\"1\" class=\"dataframe\">\n",
       "  <thead>\n",
       "    <tr style=\"text-align: right;\">\n",
       "      <th></th>\n",
       "      <th>Title</th>\n",
       "      <th>Genre</th>\n",
       "      <th>Premiere</th>\n",
       "      <th>Runtime</th>\n",
       "      <th>IMDB Score</th>\n",
       "      <th>Language</th>\n",
       "      <th>P_Year</th>\n",
       "    </tr>\n",
       "  </thead>\n",
       "  <tbody>\n",
       "    <tr>\n",
       "      <th>583</th>\n",
       "      <td>David Attenborough: A Life on Our Planet</td>\n",
       "      <td>Documentary</td>\n",
       "      <td>October 4, 2020</td>\n",
       "      <td>83</td>\n",
       "      <td>9.0</td>\n",
       "      <td>English</td>\n",
       "      <td>2020</td>\n",
       "    </tr>\n",
       "    <tr>\n",
       "      <th>582</th>\n",
       "      <td>Emicida: AmarElo - It's All For Yesterday</td>\n",
       "      <td>Documentary</td>\n",
       "      <td>December 8, 2020</td>\n",
       "      <td>89</td>\n",
       "      <td>8.6</td>\n",
       "      <td>Portuguese</td>\n",
       "      <td>2020</td>\n",
       "    </tr>\n",
       "    <tr>\n",
       "      <th>581</th>\n",
       "      <td>Springsteen on Broadway</td>\n",
       "      <td>One-man show</td>\n",
       "      <td>December 16, 2018</td>\n",
       "      <td>153</td>\n",
       "      <td>8.5</td>\n",
       "      <td>English</td>\n",
       "      <td>2018</td>\n",
       "    </tr>\n",
       "    <tr>\n",
       "      <th>580</th>\n",
       "      <td>Winter on Fire: Ukraine's Fight for Freedom</td>\n",
       "      <td>Documentary</td>\n",
       "      <td>October 9, 2015</td>\n",
       "      <td>91</td>\n",
       "      <td>8.4</td>\n",
       "      <td>English/Ukranian/Russian</td>\n",
       "      <td>2015</td>\n",
       "    </tr>\n",
       "    <tr>\n",
       "      <th>579</th>\n",
       "      <td>Taylor Swift: Reputation Stadium Tour</td>\n",
       "      <td>Concert Film</td>\n",
       "      <td>December 31, 2018</td>\n",
       "      <td>125</td>\n",
       "      <td>8.4</td>\n",
       "      <td>English</td>\n",
       "      <td>2018</td>\n",
       "    </tr>\n",
       "    <tr>\n",
       "      <th>578</th>\n",
       "      <td>Ben Platt: Live from Radio City Music Hall</td>\n",
       "      <td>Concert Film</td>\n",
       "      <td>May 20, 2020</td>\n",
       "      <td>85</td>\n",
       "      <td>8.4</td>\n",
       "      <td>English</td>\n",
       "      <td>2020</td>\n",
       "    </tr>\n",
       "    <tr>\n",
       "      <th>577</th>\n",
       "      <td>Dancing with the Birds</td>\n",
       "      <td>Documentary</td>\n",
       "      <td>October 23, 2019</td>\n",
       "      <td>51</td>\n",
       "      <td>8.3</td>\n",
       "      <td>English</td>\n",
       "      <td>2019</td>\n",
       "    </tr>\n",
       "    <tr>\n",
       "      <th>576</th>\n",
       "      <td>Cuba and the Cameraman</td>\n",
       "      <td>Documentary</td>\n",
       "      <td>November 24, 2017</td>\n",
       "      <td>114</td>\n",
       "      <td>8.3</td>\n",
       "      <td>English</td>\n",
       "      <td>2017</td>\n",
       "    </tr>\n",
       "    <tr>\n",
       "      <th>573</th>\n",
       "      <td>Klaus</td>\n",
       "      <td>Animation/Christmas/Comedy/Adventure</td>\n",
       "      <td>November 15, 2019</td>\n",
       "      <td>97</td>\n",
       "      <td>8.2</td>\n",
       "      <td>English</td>\n",
       "      <td>2019</td>\n",
       "    </tr>\n",
       "    <tr>\n",
       "      <th>571</th>\n",
       "      <td>13th</td>\n",
       "      <td>Documentary</td>\n",
       "      <td>October 7, 2016</td>\n",
       "      <td>100</td>\n",
       "      <td>8.2</td>\n",
       "      <td>English</td>\n",
       "      <td>2016</td>\n",
       "    </tr>\n",
       "  </tbody>\n",
       "</table>\n",
       "</div>"
      ],
      "text/plain": [
       "                                           Title  \\\n",
       "583     David Attenborough: A Life on Our Planet   \n",
       "582    Emicida: AmarElo - It's All For Yesterday   \n",
       "581                      Springsteen on Broadway   \n",
       "580  Winter on Fire: Ukraine's Fight for Freedom   \n",
       "579        Taylor Swift: Reputation Stadium Tour   \n",
       "578   Ben Platt: Live from Radio City Music Hall   \n",
       "577                       Dancing with the Birds   \n",
       "576                      Cuba and the Cameraman    \n",
       "573                                        Klaus   \n",
       "571                                         13th   \n",
       "\n",
       "                                    Genre           Premiere  Runtime  \\\n",
       "583                           Documentary    October 4, 2020       83   \n",
       "582                           Documentary   December 8, 2020       89   \n",
       "581                          One-man show  December 16, 2018      153   \n",
       "580                           Documentary    October 9, 2015       91   \n",
       "579                          Concert Film  December 31, 2018      125   \n",
       "578                          Concert Film       May 20, 2020       85   \n",
       "577                           Documentary   October 23, 2019       51   \n",
       "576                           Documentary  November 24, 2017      114   \n",
       "573  Animation/Christmas/Comedy/Adventure  November 15, 2019       97   \n",
       "571                           Documentary    October 7, 2016      100   \n",
       "\n",
       "     IMDB Score                  Language  P_Year  \n",
       "583         9.0                   English    2020  \n",
       "582         8.6                Portuguese    2020  \n",
       "581         8.5                   English    2018  \n",
       "580         8.4  English/Ukranian/Russian    2015  \n",
       "579         8.4                   English    2018  \n",
       "578         8.4                   English    2020  \n",
       "577         8.3                   English    2019  \n",
       "576         8.3                   English    2017  \n",
       "573         8.2                   English    2019  \n",
       "571         8.2                   English    2016  "
      ]
     },
     "execution_count": 16,
     "metadata": {},
     "output_type": "execute_result"
    }
   ],
   "source": [
    "highest_imdb = df.sort_values(\"IMDB Score\", ascending=False).head(10)\n",
    "highest_imdb"
   ]
  },
  {
   "cell_type": "code",
   "execution_count": 21,
   "id": "96347a2b",
   "metadata": {},
   "outputs": [
    {
     "data": {
      "image/png": "[encoded data removed]",
      "text/plain": [
       "<Figure size 864x576 with 1 Axes>"
      ]
     },
     "metadata": {
      "needs_background": "light"
     },
     "output_type": "display_data"
    }
   ],
   "source": [
    "highest_imdb.plot.scatter(x=\"IMDB Score\", y=\"Title\", figsize=(12,8) ,c=\"r\");"
   ]
  },
  {
   "cell_type": "markdown",
   "id": "99b2f015",
   "metadata": {},
   "source": [
    "### 10-'What are the top 10 movies with the highest \"Runtime\"? Visualize."
   ]
  },
  {
   "cell_type": "code",
   "execution_count": 6,
   "id": "3a80f45b",
   "metadata": {},
   "outputs": [
    {
     "data": {
      "text/html": [
       "<div>\n",
       "<style scoped>\n",
       "    .dataframe tbody tr th:only-of-type {\n",
       "        vertical-align: middle;\n",
       "    }\n",
       "\n",
       "    .dataframe tbody tr th {\n",
       "        vertical-align: top;\n",
       "    }\n",
       "\n",
       "    .dataframe thead th {\n",
       "        text-align: right;\n",
       "    }\n",
       "</style>\n",
       "<table border=\"1\" class=\"dataframe\">\n",
       "  <thead>\n",
       "    <tr style=\"text-align: right;\">\n",
       "      <th></th>\n",
       "      <th>Title</th>\n",
       "      <th>Genre</th>\n",
       "      <th>Premiere</th>\n",
       "      <th>Runtime</th>\n",
       "      <th>IMDB Score</th>\n",
       "      <th>Language</th>\n",
       "    </tr>\n",
       "  </thead>\n",
       "  <tbody>\n",
       "    <tr>\n",
       "      <th>0</th>\n",
       "      <td>Enter the Anime</td>\n",
       "      <td>Documentary</td>\n",
       "      <td>August 5, 2019</td>\n",
       "      <td>58</td>\n",
       "      <td>2.5</td>\n",
       "      <td>English/Japanese</td>\n",
       "    </tr>\n",
       "    <tr>\n",
       "      <th>1</th>\n",
       "      <td>Dark Forces</td>\n",
       "      <td>Thriller</td>\n",
       "      <td>August 21, 2020</td>\n",
       "      <td>81</td>\n",
       "      <td>2.6</td>\n",
       "      <td>Spanish</td>\n",
       "    </tr>\n",
       "    <tr>\n",
       "      <th>2</th>\n",
       "      <td>The App</td>\n",
       "      <td>Science fiction/Drama</td>\n",
       "      <td>December 26, 2019</td>\n",
       "      <td>79</td>\n",
       "      <td>2.6</td>\n",
       "      <td>Italian</td>\n",
       "    </tr>\n",
       "    <tr>\n",
       "      <th>3</th>\n",
       "      <td>The Open House</td>\n",
       "      <td>Horror thriller</td>\n",
       "      <td>January 19, 2018</td>\n",
       "      <td>94</td>\n",
       "      <td>3.2</td>\n",
       "      <td>English</td>\n",
       "    </tr>\n",
       "    <tr>\n",
       "      <th>4</th>\n",
       "      <td>Kaali Khuhi</td>\n",
       "      <td>Mystery</td>\n",
       "      <td>October 30, 2020</td>\n",
       "      <td>90</td>\n",
       "      <td>3.4</td>\n",
       "      <td>Hindi</td>\n",
       "    </tr>\n",
       "  </tbody>\n",
       "</table>\n",
       "</div>"
      ],
      "text/plain": [
       "             Title                  Genre           Premiere  Runtime  \\\n",
       "0  Enter the Anime            Documentary     August 5, 2019       58   \n",
       "1      Dark Forces               Thriller    August 21, 2020       81   \n",
       "2          The App  Science fiction/Drama  December 26, 2019       79   \n",
       "3   The Open House        Horror thriller   January 19, 2018       94   \n",
       "4      Kaali Khuhi                Mystery   October 30, 2020       90   \n",
       "\n",
       "   IMDB Score          Language  \n",
       "0         2.5  English/Japanese  \n",
       "1         2.6           Spanish  \n",
       "2         2.6           Italian  \n",
       "3         3.2           English  \n",
       "4         3.4             Hindi  "
      ]
     },
     "execution_count": 6,
     "metadata": {},
     "output_type": "execute_result"
    }
   ],
   "source": [
    "df.head()"
   ]
  },
  {
   "cell_type": "code",
   "execution_count": 7,
   "id": "0607767e",
   "metadata": {},
   "outputs": [
    {
     "data": {
      "text/html": [
       "<div>\n",
       "<style scoped>\n",
       "    .dataframe tbody tr th:only-of-type {\n",
       "        vertical-align: middle;\n",
       "    }\n",
       "\n",
       "    .dataframe tbody tr th {\n",
       "        vertical-align: top;\n",
       "    }\n",
       "\n",
       "    .dataframe thead th {\n",
       "        text-align: right;\n",
       "    }\n",
       "</style>\n",
       "<table border=\"1\" class=\"dataframe\">\n",
       "  <thead>\n",
       "    <tr style=\"text-align: right;\">\n",
       "      <th></th>\n",
       "      <th>Title</th>\n",
       "      <th>Genre</th>\n",
       "      <th>Premiere</th>\n",
       "      <th>Runtime</th>\n",
       "      <th>IMDB Score</th>\n",
       "      <th>Language</th>\n",
       "    </tr>\n",
       "  </thead>\n",
       "  <tbody>\n",
       "    <tr>\n",
       "      <th>561</th>\n",
       "      <td>The Irishman</td>\n",
       "      <td>Crime drama</td>\n",
       "      <td>November 27, 2019</td>\n",
       "      <td>209</td>\n",
       "      <td>7.8</td>\n",
       "      <td>English</td>\n",
       "    </tr>\n",
       "    <tr>\n",
       "      <th>328</th>\n",
       "      <td>Da 5 Bloods</td>\n",
       "      <td>War drama</td>\n",
       "      <td>June 12, 2020</td>\n",
       "      <td>155</td>\n",
       "      <td>6.5</td>\n",
       "      <td>English</td>\n",
       "    </tr>\n",
       "    <tr>\n",
       "      <th>581</th>\n",
       "      <td>Springsteen on Broadway</td>\n",
       "      <td>One-man show</td>\n",
       "      <td>December 16, 2018</td>\n",
       "      <td>153</td>\n",
       "      <td>8.5</td>\n",
       "      <td>English</td>\n",
       "    </tr>\n",
       "    <tr>\n",
       "      <th>247</th>\n",
       "      <td>Citation</td>\n",
       "      <td>Drama</td>\n",
       "      <td>November 6, 2020</td>\n",
       "      <td>151</td>\n",
       "      <td>6.2</td>\n",
       "      <td>English</td>\n",
       "    </tr>\n",
       "    <tr>\n",
       "      <th>284</th>\n",
       "      <td>The Forest of Love</td>\n",
       "      <td>Drama</td>\n",
       "      <td>October 11, 2019</td>\n",
       "      <td>151</td>\n",
       "      <td>6.3</td>\n",
       "      <td>Japanese</td>\n",
       "    </tr>\n",
       "    <tr>\n",
       "      <th>509</th>\n",
       "      <td>Raat Akeli Hai</td>\n",
       "      <td>Thriller</td>\n",
       "      <td>July 31, 2020</td>\n",
       "      <td>149</td>\n",
       "      <td>7.3</td>\n",
       "      <td>Hindi</td>\n",
       "    </tr>\n",
       "    <tr>\n",
       "      <th>7</th>\n",
       "      <td>The Last Days of American Crime</td>\n",
       "      <td>Heist film/Thriller</td>\n",
       "      <td>June 5, 2020</td>\n",
       "      <td>149</td>\n",
       "      <td>3.7</td>\n",
       "      <td>English</td>\n",
       "    </tr>\n",
       "    <tr>\n",
       "      <th>543</th>\n",
       "      <td>Ludo</td>\n",
       "      <td>Anthology/Dark comedy</td>\n",
       "      <td>November 12, 2020</td>\n",
       "      <td>149</td>\n",
       "      <td>7.6</td>\n",
       "      <td>Hindi</td>\n",
       "    </tr>\n",
       "    <tr>\n",
       "      <th>194</th>\n",
       "      <td>Army of the Dead</td>\n",
       "      <td>Zombie/Heist</td>\n",
       "      <td>May 21, 2021</td>\n",
       "      <td>148</td>\n",
       "      <td>5.9</td>\n",
       "      <td>English</td>\n",
       "    </tr>\n",
       "    <tr>\n",
       "      <th>5</th>\n",
       "      <td>Drive</td>\n",
       "      <td>Action</td>\n",
       "      <td>November 1, 2019</td>\n",
       "      <td>147</td>\n",
       "      <td>3.5</td>\n",
       "      <td>Hindi</td>\n",
       "    </tr>\n",
       "  </tbody>\n",
       "</table>\n",
       "</div>"
      ],
      "text/plain": [
       "                               Title                  Genre  \\\n",
       "561                     The Irishman            Crime drama   \n",
       "328                      Da 5 Bloods              War drama   \n",
       "581          Springsteen on Broadway           One-man show   \n",
       "247                         Citation                  Drama   \n",
       "284               The Forest of Love                  Drama   \n",
       "509                   Raat Akeli Hai               Thriller   \n",
       "7    The Last Days of American Crime    Heist film/Thriller   \n",
       "543                             Ludo  Anthology/Dark comedy   \n",
       "194                 Army of the Dead           Zombie/Heist   \n",
       "5                              Drive                 Action   \n",
       "\n",
       "              Premiere  Runtime  IMDB Score  Language  \n",
       "561  November 27, 2019      209         7.8   English  \n",
       "328      June 12, 2020      155         6.5   English  \n",
       "581  December 16, 2018      153         8.5   English  \n",
       "247   November 6, 2020      151         6.2   English  \n",
       "284   October 11, 2019      151         6.3  Japanese  \n",
       "509      July 31, 2020      149         7.3     Hindi  \n",
       "7         June 5, 2020      149         3.7   English  \n",
       "543  November 12, 2020      149         7.6     Hindi  \n",
       "194       May 21, 2021      148         5.9   English  \n",
       "5     November 1, 2019      147         3.5     Hindi  "
      ]
     },
     "execution_count": 7,
     "metadata": {},
     "output_type": "execute_result"
    }
   ],
   "source": [
    "max_runtime = df.sort_values(\"Runtime\",ascending=False).head(10)\n",
    "max_runtime "
   ]
  },
  {
   "cell_type": "code",
   "execution_count": 8,
   "id": "0e642776",
   "metadata": {},
   "outputs": [
    {
     "data": {
      "image/png": "[encoded data removed]",
      "text/plain": [
       "<Figure size 864x576 with 1 Axes>"
      ]
     },
     "metadata": {
      "needs_background": "light"
     },
     "output_type": "display_data"
    }
   ],
   "source": [
    "max_runtime.plot.barh(x=\"Title\", y=\"Runtime\", figsize=(12,8), title = \"Top 10 movies with the highest Runtime\", legend=False);\n",
    "plt.xlabel(\"Runtime\");\n",
    "plt.ylabel(\"Movie Title\");"
   ]
  },
  {
   "cell_type": "markdown",
   "id": "e28a63e3",
   "metadata": {},
   "source": [
    "### 11- In which year was the most movies released? Visualize it."
   ]
  },
  {
   "cell_type": "code",
   "execution_count": 9,
   "id": "e65b8e74",
   "metadata": {},
   "outputs": [],
   "source": [
    "df[\"P_Year\"] = df[\"Premiere\"].str[-4:]\n",
    "df[\"P_Year\"] = df[\"P_Year\"].astype(\"int32\")\n",
    "\n",
    "df.P_Year.unique()\n",
    "year_of_max_film = df.P_Year.value_counts().sort_values(ascending=False)"
   ]
  },
  {
   "cell_type": "code",
   "execution_count": 10,
   "id": "539d298d",
   "metadata": {},
   "outputs": [
    {
     "data": {
      "image/png": "[encoded data removed]",
      "text/plain": [
       "<Figure size 864x576 with 1 Axes>"
      ]
     },
     "metadata": {
      "needs_background": "light"
     },
     "output_type": "display_data"
    }
   ],
   "source": [
    "year_of_max_film.plot.bar(figsize=(12,8), title = \"Top 10 movies with the highest Runtime\", legend=False);\n",
    "plt.xlabel(\"Year\");\n",
    "plt.ylabel(\"# of Films Released\");"
   ]
  },
  {
   "cell_type": "markdown",
   "id": "9471fbae",
   "metadata": {},
   "source": [
    "### 12- Which language movies have the lowest average IMDB rating? Visualize."
   ]
  },
  {
   "cell_type": "code",
   "execution_count": 11,
   "id": "3595ccec",
   "metadata": {},
   "outputs": [
    {
     "data": {
      "text/html": [
       "<div>\n",
       "<style scoped>\n",
       "    .dataframe tbody tr th:only-of-type {\n",
       "        vertical-align: middle;\n",
       "    }\n",
       "\n",
       "    .dataframe tbody tr th {\n",
       "        vertical-align: top;\n",
       "    }\n",
       "\n",
       "    .dataframe thead th {\n",
       "        text-align: right;\n",
       "    }\n",
       "</style>\n",
       "<table border=\"1\" class=\"dataframe\">\n",
       "  <thead>\n",
       "    <tr style=\"text-align: right;\">\n",
       "      <th></th>\n",
       "      <th>Title</th>\n",
       "      <th>Genre</th>\n",
       "      <th>Premiere</th>\n",
       "      <th>Runtime</th>\n",
       "      <th>IMDB Score</th>\n",
       "      <th>Language</th>\n",
       "      <th>P_Year</th>\n",
       "    </tr>\n",
       "  </thead>\n",
       "  <tbody>\n",
       "    <tr>\n",
       "      <th>0</th>\n",
       "      <td>Enter the Anime</td>\n",
       "      <td>Documentary</td>\n",
       "      <td>August 5, 2019</td>\n",
       "      <td>58</td>\n",
       "      <td>2.5</td>\n",
       "      <td>English/Japanese</td>\n",
       "      <td>2019</td>\n",
       "    </tr>\n",
       "    <tr>\n",
       "      <th>1</th>\n",
       "      <td>Dark Forces</td>\n",
       "      <td>Thriller</td>\n",
       "      <td>August 21, 2020</td>\n",
       "      <td>81</td>\n",
       "      <td>2.6</td>\n",
       "      <td>Spanish</td>\n",
       "      <td>2020</td>\n",
       "    </tr>\n",
       "    <tr>\n",
       "      <th>2</th>\n",
       "      <td>The App</td>\n",
       "      <td>Science fiction/Drama</td>\n",
       "      <td>December 26, 2019</td>\n",
       "      <td>79</td>\n",
       "      <td>2.6</td>\n",
       "      <td>Italian</td>\n",
       "      <td>2019</td>\n",
       "    </tr>\n",
       "    <tr>\n",
       "      <th>3</th>\n",
       "      <td>The Open House</td>\n",
       "      <td>Horror thriller</td>\n",
       "      <td>January 19, 2018</td>\n",
       "      <td>94</td>\n",
       "      <td>3.2</td>\n",
       "      <td>English</td>\n",
       "      <td>2018</td>\n",
       "    </tr>\n",
       "    <tr>\n",
       "      <th>4</th>\n",
       "      <td>Kaali Khuhi</td>\n",
       "      <td>Mystery</td>\n",
       "      <td>October 30, 2020</td>\n",
       "      <td>90</td>\n",
       "      <td>3.4</td>\n",
       "      <td>Hindi</td>\n",
       "      <td>2020</td>\n",
       "    </tr>\n",
       "  </tbody>\n",
       "</table>\n",
       "</div>"
      ],
      "text/plain": [
       "             Title                  Genre           Premiere  Runtime  \\\n",
       "0  Enter the Anime            Documentary     August 5, 2019       58   \n",
       "1      Dark Forces               Thriller    August 21, 2020       81   \n",
       "2          The App  Science fiction/Drama  December 26, 2019       79   \n",
       "3   The Open House        Horror thriller   January 19, 2018       94   \n",
       "4      Kaali Khuhi                Mystery   October 30, 2020       90   \n",
       "\n",
       "   IMDB Score          Language  P_Year  \n",
       "0         2.5  English/Japanese    2019  \n",
       "1         2.6           Spanish    2020  \n",
       "2         2.6           Italian    2019  \n",
       "3         3.2           English    2018  \n",
       "4         3.4             Hindi    2020  "
      ]
     },
     "execution_count": 11,
     "metadata": {},
     "output_type": "execute_result"
    }
   ],
   "source": [
    "min_imdb = df.sort_values(by=\"IMDB Score\", ascending=True)\n",
    "min_imdb.head()"
   ]
  },
  {
   "cell_type": "code",
   "execution_count": 12,
   "id": "c8fcc320",
   "metadata": {},
   "outputs": [
    {
     "data": {
      "text/plain": [
       "Language\n",
       "Malay               4.200000\n",
       "English/Japanese    4.400000\n",
       "Filipino            5.100000\n",
       "Norwegian           5.100000\n",
       "Polish              5.166667\n",
       "Name: IMDB Score, dtype: float64"
      ]
     },
     "execution_count": 12,
     "metadata": {},
     "output_type": "execute_result"
    }
   ],
   "source": [
    "min_imdb_language = df.groupby(\"Language\")[\"IMDB Score\"].mean().nsmallest(10)\n",
    "min_imdb_language.head()"
   ]
  },
  {
   "cell_type": "code",
   "execution_count": 13,
   "id": "3c634cac",
   "metadata": {},
   "outputs": [
    {
     "data": {
      "image/png": "[encoded data removed]",
      "text/plain": [
       "<Figure size 864x576 with 1 Axes>"
      ]
     },
     "metadata": {
      "needs_background": "light"
     },
     "output_type": "display_data"
    }
   ],
   "source": [
    "min_imdb_language.sort_values(ascending=False).plot.barh(figsize=(12,8));"
   ]
  },
  {
   "cell_type": "markdown",
   "id": "304587f7",
   "metadata": {},
   "source": [
    "### 13-Which year has the greatest total runtime?"
   ]
  },
  {
   "cell_type": "code",
   "execution_count": 22,
   "id": "416bb0a3",
   "metadata": {},
   "outputs": [],
   "source": [
    "max_runtime = df[(df[\"Runtime\"].max()) == df[\"Runtime\"]][[\"Premiere\",\"Runtime\"]] "
   ]
  },
  {
   "cell_type": "markdown",
   "id": "59b781ee",
   "metadata": {},
   "source": [
    "### 14-What is the \"Genre\" where each language is used the most?"
   ]
  },
  {
   "cell_type": "code",
   "execution_count": 23,
   "id": "b2e44c11",
   "metadata": {},
   "outputs": [],
   "source": [
    "max_genre = df.groupby(['Genre', 'Language']).agg([len]) "
   ]
  },
  {
   "cell_type": "markdown",
   "id": "52a83af5",
   "metadata": {},
   "source": [
    "### 15-Veri setinde outlier veri var mıdır? Açıklayınız."
   ]
  },
  {
   "cell_type": "code",
   "execution_count": 24,
   "id": "5f1246fb",
   "metadata": {},
   "outputs": [
    {
     "data": {
      "text/html": [
       "<div>\n",
       "<style scoped>\n",
       "    .dataframe tbody tr th:only-of-type {\n",
       "        vertical-align: middle;\n",
       "    }\n",
       "\n",
       "    .dataframe tbody tr th {\n",
       "        vertical-align: top;\n",
       "    }\n",
       "\n",
       "    .dataframe thead th {\n",
       "        text-align: right;\n",
       "    }\n",
       "</style>\n",
       "<table border=\"1\" class=\"dataframe\">\n",
       "  <thead>\n",
       "    <tr style=\"text-align: right;\">\n",
       "      <th></th>\n",
       "      <th>Runtime</th>\n",
       "      <th>IMDB Score</th>\n",
       "    </tr>\n",
       "  </thead>\n",
       "  <tbody>\n",
       "    <tr>\n",
       "      <th>0</th>\n",
       "      <td>58.0</td>\n",
       "      <td>2.5</td>\n",
       "    </tr>\n",
       "    <tr>\n",
       "      <th>1</th>\n",
       "      <td>81.0</td>\n",
       "      <td>2.6</td>\n",
       "    </tr>\n",
       "    <tr>\n",
       "      <th>2</th>\n",
       "      <td>79.0</td>\n",
       "      <td>2.6</td>\n",
       "    </tr>\n",
       "    <tr>\n",
       "      <th>3</th>\n",
       "      <td>94.0</td>\n",
       "      <td>3.2</td>\n",
       "    </tr>\n",
       "    <tr>\n",
       "      <th>4</th>\n",
       "      <td>90.0</td>\n",
       "      <td>3.4</td>\n",
       "    </tr>\n",
       "  </tbody>\n",
       "</table>\n",
       "</div>"
      ],
      "text/plain": [
       "   Runtime  IMDB Score\n",
       "0     58.0         2.5\n",
       "1     81.0         2.6\n",
       "2     79.0         2.6\n",
       "3     94.0         3.2\n",
       "4     90.0         3.4"
      ]
     },
     "execution_count": 24,
     "metadata": {},
     "output_type": "execute_result"
    },
    {
     "data": {
      "image/png": "[encoded data removed]",
      "text/plain": [
       "<Figure size 432x288 with 1 Axes>"
      ]
     },
     "metadata": {
      "needs_background": "light"
     },
     "output_type": "display_data"
    }
   ],
   "source": [
    "df = df.select_dtypes(include=['float64','int64']) \n",
    "\n",
    "df_table = df[\"Runtime\"].copy() \n",
    "\n",
    "df['Runtime'] = df['Runtime'].astype('float') \n",
    "\n",
    "plt.boxplot(x = df_table)\n",
    "df.head()\n",
    "\n",
    "\"\"\"\n",
    "Elimizde bulunan “Runtime” veri setinde sadece numeric olan değişkenleri seçtiğimiz bir dataframe oluşturduk.\n",
    " Daha sonra oluşturduğumuz veri seti üzerinden “Runtime” sütununu aşağıdaki şekilde görselleştirdik. \n",
    "\n",
    "200 ‘e kadar olan çizgide belirli şekiller bulunmaktadır,\n",
    " bunlar diğer gözlem kutusuna dahil edilmediğinden yani ortalama verilerinin yakınında hiçbir yerde bulunmadığından aykırı değerlerdir.\n",
    " Grafiğe baktığımızda, veri noktalarının çoğunun 50–150 arasında olduğunu söyleyebiliriz,\n",
    " ancak en üstlerdeki(160-200) noktalar popülasyondan uzakta olan aykırı noktalardır.\n",
    "\"\"\""
   ]
  }
 ],
 "metadata": {
  "kernelspec": {
   "display_name": "Python 3.10.0 64-bit",
   "language": "python",
   "name": "python3"
  },
  "language_info": {
   "codemirror_mode": {
    "name": "ipython",
    "version": 3
   },
   "file_extension": ".py",
   "mimetype": "text/x-python",
   "name": "python",
   "nbconvert_exporter": "python",
   "pygments_lexer": "ipython3",
   "version": "3.10.0"
  },
  "vscode": {
   "interpreter": {
    "hash": "dbcefe7cc1b5c8a0efe7bce2a8e6d9d317c4b15f360801b153528886b54c3f98"
   }
  }
 },
 "nbformat": 4,
 "nbformat_minor": 5
}
